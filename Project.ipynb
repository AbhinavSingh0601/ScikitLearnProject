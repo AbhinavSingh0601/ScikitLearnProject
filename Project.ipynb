{
 "cells": [
  {
   "cell_type": "code",
   "id": "initial_id",
   "metadata": {
    "collapsed": true
   },
   "source": [
    "import pandas as pd\n",
    "import numpy as np\n",
    "import matplotlib.pyplot as plt\n",
    "import seaborn as sns\n",
    "import sklearn"
   ],
   "outputs": [],
   "execution_count": null
  },
  {
   "metadata": {},
   "cell_type": "code",
   "source": [
    "housing = pd.read_csv('housing.csv')\n",
    "print(housing.info())"
   ],
   "id": "b4ea2711414fa2cb",
   "outputs": [],
   "execution_count": null
  },
  {
   "metadata": {},
   "cell_type": "code",
   "source": [
    "#DATA VISUALIZATION\n",
    "housing.hist(bins = 50,figsize=(10,10))"
   ],
   "id": "1b2063355598a00c",
   "outputs": [],
   "execution_count": null
  },
  {
   "metadata": {},
   "cell_type": "code",
   "source": [
    "from sklearn.model_selection import train_test_split\n",
    "test_size = 0.20\n",
    "train_data, test_data = train_test_split(housing, test_size=test_size)\n",
    "print(train_data.shape)\n",
    "print(test_data.shape)"
   ],
   "id": "513650d927a15eac",
   "outputs": [],
   "execution_count": null
  },
  {
   "metadata": {},
   "cell_type": "code",
   "source": [
    "housing[\"income_cat\"] = pd.cut(\n",
    "    housing[\"median_income\"],\n",
    "    bins=[0., 1.5, 3.0, 4.5, 6., np.inf],\n",
    "    labels=[1, 2, 3, 4, 5]\n",
    ")\n",
    "\n",
    "housing['income_cat'].hist()\n",
    "plt.show()\n"
   ],
   "id": "eb1e29c658835cf7",
   "outputs": [],
   "execution_count": null
  },
  {
   "metadata": {},
   "cell_type": "code",
   "source": [
    "split = sklearn.model_selection.StratifiedShuffleSplit(n_splits=1 ,test_size=0.20)\n",
    "for train_index, test_index in split.split(housing,housing[\"income_cat\"]):\n",
    "    strat_train_set = housing.loc[train_index]\n",
    "    strat_test_set = housing.loc[test_index]"
   ],
   "id": "290f8781a7fd55df",
   "outputs": [],
   "execution_count": null
  },
  {
   "metadata": {},
   "cell_type": "code",
   "source": [
    "print(strat_train_set.shape)\n",
    "print(strat_test_set.shape)"
   ],
   "id": "7c293e28d1055477",
   "outputs": [],
   "execution_count": null
  },
  {
   "metadata": {},
   "cell_type": "code",
   "source": "print(strat_test_set[\"income_cat\"].value_counts() / len(strat_test_set))",
   "id": "5038b7ebbcc5b2da",
   "outputs": [],
   "execution_count": null
  },
  {
   "metadata": {},
   "cell_type": "code",
   "source": [
    "#Removing the income cat column we added for strafied data\n",
    "housing.drop(columns=[\"income cat\"], inplace=True)"
   ],
   "id": "3b43f18191eb6cbb",
   "outputs": [],
   "execution_count": null
  },
  {
   "metadata": {},
   "cell_type": "code",
   "source": [
    "housing_new = housing.drop(columns=[\"ocean_proximity\"])\n",
    "corr_matrix = housing_new.corr()\n",
    "sns.heatmap(corr_matrix, annot=True)\n",
    "plt.show()\n"
   ],
   "id": "97a4a3dde7a53aea",
   "outputs": [],
   "execution_count": null
  },
  {
   "metadata": {},
   "cell_type": "code",
   "source": [
    "housing['rooms_per_household'] = housing['total_rooms']/housing['households']\n",
    "housing['bedrooms_per_room'] = housing['total_rooms']/housing['total_bedrooms']\n",
    "housing['population_per_household'] = housing['population']/housing['households']\n",
    "\n",
    "housing_num = housing.drop(columns = ['ocean_proximity'],axis = 1)\n"
   ],
   "id": "d59573751e686c29",
   "outputs": [],
   "execution_count": null
  },
  {
   "metadata": {},
   "cell_type": "code",
   "source": [
    "housing = strat_train_set.drop('median_income',axis = 1)\n",
    "housing_labels = strat_train_set['median_income']\n",
    "median = housing[\"total_bedrooms\"].median()\n",
    "housing[\"total_bedrooms\"].fillna(median, inplace=True)\n"
   ],
   "id": "425c1611a4f0736",
   "outputs": [],
   "execution_count": null
  },
  {
   "metadata": {
    "ExecuteTime": {
     "end_time": "2024-12-15T19:13:01.529800Z",
     "start_time": "2024-12-15T19:13:01.526561Z"
    }
   },
   "cell_type": "code",
   "source": [
    "from sklearn.impute import SimpleImputer\n",
    "imputer = SimpleImputer(strategy='median')"
   ],
   "id": "2516ba5f34574dd3",
   "outputs": [],
   "execution_count": 28
  },
  {
   "metadata": {
    "ExecuteTime": {
     "end_time": "2024-12-15T19:14:41.122285Z",
     "start_time": "2024-12-15T19:14:41.089373Z"
    }
   },
   "cell_type": "code",
   "source": [
    "housing_num = housing.drop('ocean_proximity',axis = 1)\n",
    "imputer.fit(housing_num)\n",
    "print(imputer.statistics_)\n",
    "\n",
    "X = imputer.transform(housing_num)\n",
    "housing_tr = pd.DataFrame(X, columns=housing_num.columns)"
   ],
   "id": "d926744ebb09ef94",
   "outputs": [
    {
     "name": "stdout",
     "output_type": "stream",
     "text": [
      "[-1.1848e+02  3.4250e+01  2.9000e+01  2.1320e+03  4.3600e+02  1.1670e+03\n",
      "  4.1000e+02  1.7955e+05  3.0000e+00]\n"
     ]
    }
   ],
   "execution_count": 31
  },
  {
   "metadata": {
    "ExecuteTime": {
     "end_time": "2024-12-15T19:40:09.534861Z",
     "start_time": "2024-12-15T19:40:09.519500Z"
    }
   },
   "cell_type": "code",
   "source": [
    "housing_cat =  housing[['ocean_proximity']]\n",
    "\n",
    "\n",
    "from sklearn.preprocessing import OneHotEncoder\n",
    "cat_encoder = OneHotEncoder()\n",
    "housing_Cat_1h = cat_encoder.fit_transform(housing_cat)\n"
   ],
   "id": "b293f8c68a15ada3",
   "outputs": [
    {
     "name": "stdout",
     "output_type": "stream",
     "text": [
      "  (np.int32(0), np.int32(0))\t1.0\n",
      "  (np.int32(1), np.int32(0))\t1.0\n",
      "  (np.int32(2), np.int32(0))\t1.0\n",
      "  (np.int32(3), np.int32(0))\t1.0\n",
      "  (np.int32(4), np.int32(0))\t1.0\n",
      "  (np.int32(5), np.int32(1))\t1.0\n",
      "  (np.int32(6), np.int32(0))\t1.0\n",
      "  (np.int32(7), np.int32(1))\t1.0\n",
      "  (np.int32(8), np.int32(1))\t1.0\n",
      "  (np.int32(9), np.int32(1))\t1.0\n",
      "  (np.int32(10), np.int32(0))\t1.0\n",
      "  (np.int32(11), np.int32(4))\t1.0\n",
      "  (np.int32(12), np.int32(4))\t1.0\n",
      "  (np.int32(13), np.int32(0))\t1.0\n",
      "  (np.int32(14), np.int32(1))\t1.0\n",
      "  (np.int32(15), np.int32(3))\t1.0\n",
      "  (np.int32(16), np.int32(1))\t1.0\n",
      "  (np.int32(17), np.int32(4))\t1.0\n",
      "  (np.int32(18), np.int32(0))\t1.0\n",
      "  (np.int32(19), np.int32(1))\t1.0\n",
      "  (np.int32(20), np.int32(0))\t1.0\n",
      "  (np.int32(21), np.int32(0))\t1.0\n",
      "  (np.int32(22), np.int32(0))\t1.0\n",
      "  (np.int32(23), np.int32(0))\t1.0\n",
      "  (np.int32(24), np.int32(0))\t1.0\n",
      "  :\t:\n",
      "  (np.int32(16487), np.int32(1))\t1.0\n",
      "  (np.int32(16488), np.int32(0))\t1.0\n",
      "  (np.int32(16489), np.int32(1))\t1.0\n",
      "  (np.int32(16490), np.int32(3))\t1.0\n",
      "  (np.int32(16491), np.int32(0))\t1.0\n",
      "  (np.int32(16492), np.int32(1))\t1.0\n",
      "  (np.int32(16493), np.int32(1))\t1.0\n",
      "  (np.int32(16494), np.int32(0))\t1.0\n",
      "  (np.int32(16495), np.int32(4))\t1.0\n",
      "  (np.int32(16496), np.int32(0))\t1.0\n",
      "  (np.int32(16497), np.int32(0))\t1.0\n",
      "  (np.int32(16498), np.int32(0))\t1.0\n",
      "  (np.int32(16499), np.int32(0))\t1.0\n",
      "  (np.int32(16500), np.int32(0))\t1.0\n",
      "  (np.int32(16501), np.int32(1))\t1.0\n",
      "  (np.int32(16502), np.int32(1))\t1.0\n",
      "  (np.int32(16503), np.int32(4))\t1.0\n",
      "  (np.int32(16504), np.int32(1))\t1.0\n",
      "  (np.int32(16505), np.int32(0))\t1.0\n",
      "  (np.int32(16506), np.int32(1))\t1.0\n",
      "  (np.int32(16507), np.int32(1))\t1.0\n",
      "  (np.int32(16508), np.int32(0))\t1.0\n",
      "  (np.int32(16509), np.int32(1))\t1.0\n",
      "  (np.int32(16510), np.int32(0))\t1.0\n",
      "  (np.int32(16511), np.int32(0))\t1.0\n"
     ]
    }
   ],
   "execution_count": 38
  },
  {
   "metadata": {
    "ExecuteTime": {
     "end_time": "2024-12-15T19:45:05.708774Z",
     "start_time": "2024-12-15T19:45:05.675342Z"
    }
   },
   "cell_type": "code",
   "source": [
    "from sklearn.preprocessing import StandardScaler\n",
    "from sklearn.impute import SimpleImputer  # Ensure you have this import\n",
    "from sklearn.pipeline import Pipeline\n",
    "\n",
    "num_pipeline = Pipeline([\n",
    "    ('imputer', SimpleImputer(strategy='median')),  # Corrected\n",
    "    ('std_scaler', StandardScaler())               # Corrected\n",
    "])\n",
    "\n",
    "housing_num_Tr = num_pipeline.fit_transform(housing_num)\n",
    "\n"
   ],
   "id": "498cc6726ae78d29",
   "outputs": [],
   "execution_count": 41
  },
  {
   "metadata": {
    "ExecuteTime": {
     "end_time": "2024-12-15T19:47:04.789882Z",
     "start_time": "2024-12-15T19:47:04.744604Z"
    }
   },
   "cell_type": "code",
   "source": [
    "from sklearn.compose import ColumnTransformer\n",
    "num_attribs = list(housing_num)\n",
    "cat_attribs = [\"ocean_proximity\"]\n",
    "full_pipeline = ColumnTransformer([\n",
    "    (\"num\", num_pipeline, num_attribs),\n",
    "    (\"cat\", OneHotEncoder(), cat_attribs),\n",
    "])\n",
    "housing_prepared = full_pipeline.fit_transform(housing)"
   ],
   "id": "a11ab3c8a0ebb71b",
   "outputs": [],
   "execution_count": 42
  },
  {
   "metadata": {
    "ExecuteTime": {
     "end_time": "2024-12-15T19:56:50.301539Z",
     "start_time": "2024-12-15T19:56:50.242771Z"
    }
   },
   "cell_type": "code",
   "source": [
    "from sklearn.linear_model import LinearRegression\n",
    "from sklearn.model_selection import cross_val_score,cross_val_predict\n",
    "\n",
    "lin_reg = LinearRegression()\n",
    "lin_reg.fit(housing_prepared, housing_labels)\n",
    "\n",
    "cross_val_predictions = cross_val_predict(lin_reg, housing_prepared, housing_labels)"
   ],
   "id": "6929b8c8c13c6534",
   "outputs": [],
   "execution_count": 49
  },
  {
   "metadata": {
    "ExecuteTime": {
     "end_time": "2024-12-15T19:55:36.617270Z",
     "start_time": "2024-12-15T19:55:36.577460Z"
    }
   },
   "cell_type": "code",
   "source": [
    "housing_test = strat_train_set.drop('median_income',axis = 1)\n",
    "housing_labels = strat_train_set['median_income']\n",
    "housing_prepared = full_pipeline.fit_transform(housing_test)\n",
    "\n",
    "housing_predicted = lin_reg.predict(housing_prepared)"
   ],
   "id": "b9a6067544029171",
   "outputs": [
    {
     "name": "stdout",
     "output_type": "stream",
     "text": [
      "(16512,) (16512, 10)\n"
     ]
    }
   ],
   "execution_count": 48
  },
  {
   "metadata": {
    "ExecuteTime": {
     "end_time": "2024-12-15T19:59:54.048063Z",
     "start_time": "2024-12-15T19:59:54.031810Z"
    }
   },
   "cell_type": "code",
   "source": [
    "from sklearn.metrics import r2_score, mean_squared_error\n",
    "lin_mse = mean_squared_error(housing_predicted, housing_labels)\n",
    "lin_rmse = np.sqrt(lin_mse)\n",
    "\n",
    "print(lin_rmse)\n",
    "print(housing_predicted)\n",
    "print(np.array(housing_labels))\n",
    "\n"
   ],
   "id": "5ced23ee500621f4",
   "outputs": [
    {
     "name": "stdout",
     "output_type": "stream",
     "text": [
      "0.7385016910707171\n",
      "[5.01912503 5.12915028 5.21376514 ... 2.79842615 3.96796683 3.70763467]\n",
      "[4.6389 5.2323 4.9375 ... 3.089  3.9844 3.6667]\n"
     ]
    }
   ],
   "execution_count": 55
  },
  {
   "metadata": {},
   "cell_type": "code",
   "outputs": [],
   "execution_count": null,
   "source": [
    "\n",
    "\n"
   ],
   "id": "9be4c6ea1673447d"
  }
 ],
 "metadata": {
  "kernelspec": {
   "display_name": "Python 3",
   "language": "python",
   "name": "python3"
  },
  "language_info": {
   "codemirror_mode": {
    "name": "ipython",
    "version": 2
   },
   "file_extension": ".py",
   "mimetype": "text/x-python",
   "name": "python",
   "nbconvert_exporter": "python",
   "pygments_lexer": "ipython2",
   "version": "2.7.6"
  }
 },
 "nbformat": 4,
 "nbformat_minor": 5
}
